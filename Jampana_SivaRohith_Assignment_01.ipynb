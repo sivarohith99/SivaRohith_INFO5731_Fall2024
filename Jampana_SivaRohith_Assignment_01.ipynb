{
  "cells": [
    {
      "cell_type": "markdown",
      "metadata": {
        "id": "view-in-github",
        "colab_type": "text"
      },
      "source": [
        "<a href=\"https://colab.research.google.com/github/sivarohith99/SivaRohith_INFO5731_Fall2024/blob/main/Jampana_SivaRohith_Assignment_01.ipynb\" target=\"_parent\"><img src=\"https://colab.research.google.com/assets/colab-badge.svg\" alt=\"Open In Colab\"/></a>"
      ]
    },
    {
      "cell_type": "markdown",
      "metadata": {
        "id": "Ryk8D1Q4Wsrp"
      },
      "source": [
        "# **INFO5731 Assignment One**"
      ]
    },
    {
      "cell_type": "markdown",
      "source": [
        "This assignment includes range of programming tasks and data analysis exercises, aiming to enhance your Python skills and proficiency in string manipulation, numerical computations, and data science. Follow the instructions carefully and design well-structured Python programs to address each question.\n",
        "\n",
        "Late Submission will have a penalty of 10% reduction for each day after the deadline."
      ],
      "metadata": {
        "id": "qcP6re2g5A5r"
      }
    },
    {
      "cell_type": "markdown",
      "metadata": {
        "id": "JkzR8cFAyGik"
      },
      "source": [
        "# Question 1 (10 points).\n",
        "\n",
        "The formula that describes the volume V of a hemisphere with radius r is the following:\n",
        "\n",
        "$ V=\\frac{2}{3}\\ast\\ \\pi\\ast\\ r^3 $\n",
        "\n",
        "Write a program to calculate the value of V when r is in the range of even numbers from 1-20. Output the result in the following format:\n",
        "\n",
        "\tr\tV\n",
        "\t2\t…\n",
        "\t4\t…\n",
        "\t6\t…\n",
        "\t.\n",
        "\t.\n",
        "\t.\n",
        "\t20\t…\n"
      ]
    },
    {
      "cell_type": "code",
      "execution_count": 4,
      "metadata": {
        "id": "jDyTKYs-yGit",
        "colab": {
          "base_uri": "https://localhost:8080/"
        },
        "outputId": "dd69446e-a15c-4475-aeec-704ece762e70"
      },
      "outputs": [
        {
          "output_type": "stream",
          "name": "stdout",
          "text": [
            "r    V\n",
            "2    16.76\n",
            "4    134.04\n",
            "6    452.39\n",
            "8    1072.33\n",
            "10   2094.40\n",
            "12   3619.11\n",
            "14   5747.02\n",
            "16   8578.64\n",
            "18   12214.51\n",
            "20   16755.16\n"
          ]
        }
      ],
      "source": [
        "# Your code here\n",
        "import math\n",
        "\n",
        "def hemisphere_volume(radius):\n",
        "    return (2/3) * math.pi * (radius ** 3)\n",
        "\n",
        "print(\"r    V\")\n",
        "for r in range(2, 21, 2):\n",
        "    volume = hemisphere_volume(r)\n",
        "    print(f\"{r:<5}{volume:.2f}\")"
      ]
    },
    {
      "cell_type": "markdown",
      "metadata": {
        "id": "90_NR8c5XGWc"
      },
      "source": [
        "# Question 2 (20 points)\n",
        "\n",
        "(a) Write a Python program to generate a sequence of 12 random numbers falling within the range of 50 to 150.\n",
        "\n",
        "(b) Arrange the generated numbers in ascending order. Display the sorted list.\n",
        "\n",
        "(c) Extend the program to arrange the numbers in descending order as well. Present the sorted list accordingly.\n",
        "\n",
        "(d) Compute and output the average of the entire group of generated numbers.\n",
        "\n",
        "(e) Enhance the program to calculate and display the average of the first 6 numbers from both the ascending and descending sorted lists."
      ]
    },
    {
      "cell_type": "code",
      "execution_count": 5,
      "metadata": {
        "id": "5QX6bJjGWXY9",
        "colab": {
          "base_uri": "https://localhost:8080/"
        },
        "outputId": "e9a56a51-c72f-485d-c234-ddba24dc6669"
      },
      "outputs": [
        {
          "output_type": "stream",
          "name": "stdout",
          "text": [
            "Generated numbers: [103, 75, 133, 137, 69, 146, 94, 91, 148, 78, 53, 78]\n",
            "Ascending order: [53, 69, 75, 78, 78, 91, 94, 103, 133, 137, 146, 148]\n",
            "Descending order: [148, 146, 137, 133, 103, 94, 91, 78, 78, 75, 69, 53]\n",
            "Average of all numbers: 100.42\n",
            "Average of first 6 numbers in ascending order: 74.00\n",
            "Average of first 6 numbers in descending order: 126.83\n"
          ]
        }
      ],
      "source": [
        "# Write code for each of the sub parts with proper comments.\n",
        "\n",
        "import random\n",
        "\n",
        "# (a) Generate 12 random numbers between 50 and 150\n",
        "numbers = [random.randint(50, 150) for _ in range(12)]\n",
        "print(\"Generated numbers:\", numbers)\n",
        "\n",
        "# (b) Sort in ascending order\n",
        "ascending_order = sorted(numbers)\n",
        "print(\"Ascending order:\", ascending_order)\n",
        "\n",
        "# (c) Sort in descending order\n",
        "descending_order = sorted(numbers, reverse=True)\n",
        "print(\"Descending order:\", descending_order)\n",
        "\n",
        "# (d) Calculate and display the average of all numbers\n",
        "average = sum(numbers) / len(numbers)\n",
        "print(f\"Average of all numbers: {average:.2f}\")\n",
        "\n",
        "# (e) Calculate and display the average of the first 6 numbers in both sorted lists\n",
        "ascending_avg = sum(ascending_order[:6]) / 6\n",
        "descending_avg = sum(descending_order[:6]) / 6\n",
        "print(f\"Average of first 6 numbers in ascending order: {ascending_avg:.2f}\")\n",
        "print(f\"Average of first 6 numbers in descending order: {descending_avg:.2f}\")"
      ]
    },
    {
      "cell_type": "markdown",
      "metadata": {
        "id": "1F_PZdH9Sh49"
      },
      "source": [
        "# Question 3 (20 points).\n",
        "\n",
        "Create a Python program that encompasses various string manipulation task:\n",
        "\n",
        "(a) Prompt the user to input two sentences.\n",
        "\n",
        "(b) Transform each sentence into a list, where each element corresponds to a word in the sentence. For example, if the sentences are \"Hello, how are you doing today?\" and \"This is an example sentence for the program!\"\n",
        "\n",
        "The program should output:\n",
        "['Hello', ',', 'how', 'are', 'you', 'doing', 'today', '?', 'This', 'is', 'an', 'example', 'sentence', 'for', 'the', 'program', '!']\n",
        "\n",
        "(c) Compare the two sentences. Print out a list of words that occur in both sentences.\n",
        "\n",
        "(d) Remove any punctuation from the sentence and print the sanitized sentences. It should remove at least the following characters, but it can remove more: period(“.”), comma (“,”), semicolon (“;”), and colon (“:”).\n",
        "\n",
        "(e) Count the number of vowels in each of the sentences. Print out each vowel and the occurrences  in the each of the two sentences separately, such as:\n",
        "\n",
        "Sentence1: a:2, e:2, i:0, etc.\n",
        "Sentence2: a:1, e:2, i:2, etc.\n",
        "\n",
        "Design a well-structured Python program to execute these tasks efficiently."
      ]
    },
    {
      "cell_type": "code",
      "execution_count": 9,
      "metadata": {
        "id": "Y0oOSlsOS0cq",
        "colab": {
          "base_uri": "https://localhost:8080/"
        },
        "outputId": "02602cbd-17b0-4951-d298-280dc0f86430"
      },
      "outputs": [
        {
          "output_type": "stream",
          "name": "stdout",
          "text": [
            "Enter the first sentence: Hello, how are you doing today\n",
            "Enter the second sentence: This is an example sentence for the program!\n",
            "\n",
            "(b) Combined list of words and punctuation:\n",
            "['Hello', ',', 'how', 'are', 'you', 'doing', 'today', 'This', 'is', 'an', 'example', 'sentence', 'for', 'the', 'program', '!']\n",
            "\n",
            "(c) Words common in both sentences:\n",
            "[]\n",
            "\n",
            "(d) Sanitized sentences:\n",
            "Sentence 1: Hello how are you doing today\n",
            "Sentence 2: This is an example sentence for the program\n",
            "\n",
            "(e) Vowel occurrences:\n",
            "Sentence 1 vowel counts: {'a': 2, 'e': 2, 'i': 1, 'o': 5, 'u': 1}\n",
            "Sentence 2 vowel counts: {'a': 3, 'e': 6, 'i': 2, 'o': 2, 'u': 0}\n"
          ]
        }
      ],
      "source": [
        "# Your code here\n",
        "import re\n",
        "import string\n",
        "\n",
        "# (a) Prompt the user to input two sentences.\n",
        "sentence1 = input(\"Enter the first sentence: \")\n",
        "sentence2 = input(\"Enter the second sentence: \")\n",
        "\n",
        "# (b) Transform each sentence into a list, where each element corresponds to a word or punctuation.\n",
        "def sentence_to_list(sentence):\n",
        "    # Use regex to split on spaces but keep punctuation as separate tokens\n",
        "    return re.findall(r\"\\w+|[^\\w\\s]\", sentence)\n",
        "\n",
        "sentence1_list = sentence_to_list(sentence1)\n",
        "sentence2_list = sentence_to_list(sentence2)\n",
        "combined_list = sentence1_list + sentence2_list\n",
        "\n",
        "print(\"\\n(b) Combined list of words and punctuation:\")\n",
        "print(combined_list)\n",
        "\n",
        "# (c) Compare the two sentences and print words that occur in both.\n",
        "def words_in_common(sentence1, sentence2):\n",
        "    # Remove punctuation and convert sentences to lowercase\n",
        "    words1 = sentence_to_list(sentence1)\n",
        "    words2 = sentence_to_list(sentence2)\n",
        "    # Filter out punctuation and lowercase words for comparison\n",
        "    words1_filtered = [word.lower() for word in words1 if word.isalpha()]\n",
        "    words2_filtered = [word.lower() for word in words2 if word.isalpha()]\n",
        "    # Find common words\n",
        "    common_words = list(set(words1_filtered) & set(words2_filtered))\n",
        "    return common_words\n",
        "\n",
        "common_words = words_in_common(sentence1, sentence2)\n",
        "print(\"\\n(c) Words common in both sentences:\")\n",
        "print(common_words)\n",
        "\n",
        "# (d) Remove punctuation and print sanitized sentences.\n",
        "def remove_punctuation(sentence):\n",
        "    return sentence.translate(str.maketrans('', '', string.punctuation))\n",
        "\n",
        "sanitized_sentence1 = remove_punctuation(sentence1)\n",
        "sanitized_sentence2 = remove_punctuation(sentence2)\n",
        "\n",
        "print(\"\\n(d) Sanitized sentences:\")\n",
        "print(\"Sentence 1:\", sanitized_sentence1)\n",
        "print(\"Sentence 2:\", sanitized_sentence2)\n",
        "\n",
        "# (e) Count the number of vowels in each sentence and print the occurrences.\n",
        "def count_vowels(sentence):\n",
        "    vowels = \"aeiou\"\n",
        "    sentence = sentence.lower()\n",
        "    vowel_count = {vowel: sentence.count(vowel) for vowel in vowels}\n",
        "    return vowel_count\n",
        "\n",
        "vowel_count1 = count_vowels(sanitized_sentence1)\n",
        "vowel_count2 = count_vowels(sanitized_sentence2)\n",
        "\n",
        "print(\"\\n(e) Vowel occurrences:\")\n",
        "print(\"Sentence 1 vowel counts:\", vowel_count1)\n",
        "print(\"Sentence 2 vowel counts:\", vowel_count2)\n"
      ]
    },
    {
      "cell_type": "markdown",
      "source": [
        "# Question 4 (20 Points)"
      ],
      "metadata": {
        "id": "OP4-5qxAtInv"
      }
    },
    {
      "cell_type": "markdown",
      "source": [
        "Design and implement a simple command-line calculator program. The program should handle both integers and floating-point numbers.\n",
        "\n",
        "(a) Write program that takes a mathematical expression as input and evaluates it. The program should support addition, subtraction, multiplication, and division.\n",
        "\n",
        "(b) Extend the calculator to handle parentheses in mathematical expressions. Implement the necessary logic to evaluate expressions with nested parentheses.\n",
        "\n",
        "(c) Enhance your calculator to include additional mathematical operations such as exponentiation, square root, and modulus.\n",
        "\n",
        "(d) Implement error handling in the calculator program. Handle cases such as division by zero and invalid input expressions. Provide meaningful error messages.\n",
        "\n",
        "(e) Implement a command to exit the calculator."
      ],
      "metadata": {
        "id": "uzN4_hDptK9U"
      }
    },
    {
      "cell_type": "code",
      "source": [
        "# Your code here\n",
        "import math\n",
        "\n",
        "def evaluate_expression(expression):\n",
        "    \"\"\"\n",
        "    This function takes a mathematical expression as input and evaluates it.\n",
        "    It supports addition (+), subtraction (-), multiplication (*), division (/),\n",
        "    exponentiation (**), square root (sqrt), and modulus (%).\n",
        "    \"\"\"\n",
        "    try:\n",
        "        # Use eval to safely evaluate the mathematical expression\n",
        "        result = eval(expression, {\"__builtins__\": None}, {\n",
        "            'sqrt': math.sqrt, 'pow': math.pow, 'abs': abs\n",
        "        })\n",
        "        return result\n",
        "    except ZeroDivisionError:\n",
        "        return \"Error: Division by zero!\"\n",
        "    except SyntaxError:\n",
        "        return \"Error: Invalid expression!\"\n",
        "    except NameError:\n",
        "        return \"Error: Invalid characters in expression!\"\n",
        "    except Exception as e:\n",
        "        return f\"Error: {e}\"\n",
        "\n",
        "def calculator():\n",
        "    \"\"\"\n",
        "    Command-line calculator that supports basic arithmetic operations,\n",
        "    parentheses, and additional operations like exponentiation,\n",
        "    square root, and modulus. Type 'exit' to quit the program.\n",
        "    \"\"\"\n",
        "    print(\"Welcome to the Command-Line Calculator!\")\n",
        "    print(\"Supported operations: +, -, *, /, %, ** (exponentiation), sqrt()\")\n",
        "    print(\"Type 'exit' to quit the calculator.\\n\")\n",
        "\n",
        "    while True:\n",
        "        # Get input from the user\n",
        "        expression = input(\"Enter an expression to evaluate: \").strip()\n",
        "\n",
        "        # (e) Check if the user wants to exit\n",
        "        if expression.lower() == 'exit':\n",
        "            print(\"Exiting the calculator. Goodbye!\")\n",
        "            break\n",
        "\n",
        "        # (a) Evaluate the expression and display the result\n",
        "        result = evaluate_expression(expression)\n",
        "        print(f\"Result: {result}\\n\")\n",
        "\n",
        "if __name__ == \"__main__\":\n",
        "    calculator()\n"
      ],
      "metadata": {
        "id": "8nQnVxjJuYtu",
        "colab": {
          "base_uri": "https://localhost:8080/"
        },
        "outputId": "eeae7070-e025-4f0c-d874-d11780a992f2"
      },
      "execution_count": 9,
      "outputs": [
        {
          "output_type": "stream",
          "name": "stdout",
          "text": [
            "Welcome to the Command-Line Calculator!\n",
            "Supported operations: +, -, *, /, %, ** (exponentiation), sqrt()\n",
            "Type 'exit' to quit the calculator.\n",
            "\n",
            "Enter an expression to evaluate: hjk\n",
            "Result: Error: 'NoneType' object is not subscriptable\n",
            "\n",
            "Enter an expression to evaluate: 7-9\n",
            "Result: -2\n",
            "\n",
            "Enter an expression to evaluate: exit\n",
            "Exiting the calculator. Goodbye!\n"
          ]
        }
      ]
    },
    {
      "cell_type": "markdown",
      "metadata": {
        "id": "z3tBE7E-Xn5X"
      },
      "source": [
        "# Question 5 (30 points).\n",
        "\n",
        "In the field of Data Science, data is often formatted as a comma-delimited (CSV) file, where each line in a file corresponds to a field's value. Refer to Chapter 9 (p. 106) for more information on comma-delimited files.\n",
        "\n",
        "To answer this question, you will need to download the file [Assignment1_denton_housing.csv](https://raw.githubusercontent.com/unt-iialab/info5731-spring2022/main/assignments/Assignment1_denton_housing.csv) included with this assignment. The file contains statistics about housing in the city of Denton from 2008 to 2014. Write a program to implement the following questions.\n",
        "\n",
        "(a) (5 pts) Calculate the difference in the number of Occupied Housing Units from year to year and print it. The difference must be calculated for the consecutive years such as 2008-2009, 2009-2010 etc. Finally, print the values in the ascending order.\n",
        "\n",
        "(b) (5 pts) For all the years, calculate the percentage of housing units which are vacant an occupied. Print the results in the following format:\n",
        "\n",
        "Year Vacant Housing Units Occupied Housing Units\n",
        "\n",
        "    2008  30%   70%                          \n",
        "\t2009 ----- -----\n",
        "\t2010 ----- -----\n",
        "    2011 ----- -----\n",
        "\t2012 ----- -----\n",
        "    2013 ----- -----\n",
        "\t2014 ----- -----\n",
        "  \n",
        "  \n",
        "\n",
        "(c) (10 pts) Calculate and print the valued and years in which the highest number of housing units were vacant and occupied. Print the results in the following format:  \n",
        "\n",
        "                              Year\tValue\n",
        "\tVacant Housing Units\t  -----   -----\n",
        "\tOccupied Housing Units\t-----   -----\n",
        "\n",
        "(d) (10 pts) Calculate the harmonic mean of the total housing units and print it out. You can find the information about harmonic mean here: https://ncalculators.com/statistics/harmonic-mean-calculator.htm"
      ]
    },
    {
      "cell_type": "code",
      "execution_count": 23,
      "metadata": {
        "id": "lqGYuHBhcsRH",
        "colab": {
          "base_uri": "https://localhost:8080/"
        },
        "outputId": "10e9770e-af90-4cfd-f253-cb1b52a43424"
      },
      "outputs": [
        {
          "output_type": "stream",
          "name": "stdout",
          "text": [
            "   year  yearly_difference\n",
            "0  2009             -795.0\n",
            "1  2011             -303.0\n",
            "2  2012             1404.0\n",
            "3  2013             1565.0\n",
            "4  2014             2622.0\n",
            "5  2010             5091.0\n",
            "Year       Vacant Housing Units Occupied Housing Units\n",
            "2009       9.07%                90.93%              \n",
            "2010       8.14%                91.86%              \n",
            "2011       9.38%                90.62%              \n",
            "2012       6.68%                93.32%              \n",
            "2013       8.80%                91.20%              \n",
            "2014       5.73%                94.27%              \n",
            "                          Year    Value  \n",
            "Vacant Housing Units      2008    4483   \n",
            "Occupied Housing Units    2014    46295  \n",
            "The harmonic mean of the total housing units is: 44981.43\n"
          ]
        }
      ],
      "source": [
        " # Your code here\n",
        "import pandas as pd\n",
        "\n",
        "# Load the data\n",
        "df = pd.read_csv('Assignment1_denton_housing.csv')\n",
        "\n",
        "# Filter data for 'Occupied Housing Units' and 'Vacant Housing Units'\n",
        "occupied_units = df[df['title_field'] == 'Occupied Housing Units']\n",
        "vacant_units = df[df['title_field'] == 'Vacant Housing Units']\n",
        "\n",
        "# Sort by year to ensure we calculate differences in the right order\n",
        "occupied_units = occupied_units.sort_values(by='year')\n",
        "\n",
        "# Calculate year-to-year differences for occupied housing units\n",
        "occupied_units['yearly_difference'] = occupied_units['value'].diff()\n",
        "\n",
        "# Drop the first row since it has NaN for difference (as there's no prior year)\n",
        "occupied_units = occupied_units.dropna(subset=['yearly_difference'])\n",
        "\n",
        "# Sort the differences in ascending order\n",
        "sorted_differences = occupied_units[['year', 'yearly_difference']].sort_values(by='yearly_difference')\n",
        "\n",
        "# Reset the index and drop the old index column\n",
        "sorted_differences = sorted_differences.reset_index(drop=True)\n",
        "# Print the differences\n",
        "print(sorted_differences)\n",
        "\n",
        "\n",
        "# b)\n",
        "\n",
        "# Merge the two datasets on the 'year' column to calculate percentages\n",
        "merged_df = pd.merge(occupied_units[['year', 'value']], vacant_units[['year', 'value']], on='year', suffixes=('_occupied', '_vacant'))\n",
        "\n",
        "# Calculate total housing units for each year\n",
        "merged_df['total_units'] = merged_df['value_occupied'] + merged_df['value_vacant']\n",
        "\n",
        "# Calculate the percentages\n",
        "merged_df['occupied_percent'] = (merged_df['value_occupied'] / merged_df['total_units']) * 100\n",
        "merged_df['vacant_percent'] = (merged_df['value_vacant'] / merged_df['total_units']) * 100\n",
        "\n",
        "# Print the results in the specified format\n",
        "print(f\"{'Year':<10} {'Vacant Housing Units':<20} {'Occupied Housing Units':<20}\")\n",
        "for index, row in merged_df.iterrows():\n",
        "    vacant_percent_str = f\"{row['vacant_percent']:.2f}%\"\n",
        "    occupied_percent_str = f\"{row['occupied_percent']:.2f}%\"\n",
        "    print(f\"{int(row['year']):<10} {vacant_percent_str:<20} {occupied_percent_str:<20}\")\n",
        "\n",
        "\n",
        "# C)\n",
        "\n",
        "# Find the year and value with the highest number of occupied housing units\n",
        "max_occupied = occupied_units.loc[occupied_units['value'].idxmax()]\n",
        "\n",
        "# Find the year and value with the highest number of vacant housing units\n",
        "max_vacant = vacant_units.loc[vacant_units['value'].idxmax()]\n",
        "\n",
        "# Print the results in the specified format\n",
        "print(f\"{'':<25} {'Year':<7} {'Value':<7}\")\n",
        "print(f\"{'Vacant Housing Units':<25} {int(max_vacant['year']):<7} {int(max_vacant['value']):<7}\")\n",
        "print(f\"{'Occupied Housing Units':<25} {int(max_occupied['year']):<7} {int(max_occupied['value']):<7}\")\n",
        "\n",
        "#D)\n",
        "from scipy.stats import hmean\n",
        "# Calculate the harmonic mean of total housing units\n",
        "harmonic_mean = hmean(merged_df['total_units'])\n",
        "\n",
        "# Print the harmonic mean\n",
        "print(f\"The harmonic mean of the total housing units is: {harmonic_mean:.2f}\")"
      ]
    },
    {
      "cell_type": "markdown",
      "source": [
        "# Mandatory Question\n",
        "\n",
        "Provide your thoughts on the assignment. What did you find challenging, and what aspects did you enjoy? Your opinion on the provided time to complete the assignment. Share any suggestions for improvement. Your feedback will be valuable for enhancing the learning experience."
      ],
      "metadata": {
        "id": "q8BFCvWp32cf"
      }
    },
    {
      "cell_type": "code",
      "source": [
        "# Write your response below\n",
        "# The assignment is challenging, I got understanding about random function, regex, string formatting and loops.\n",
        "#It would be good if there are more smaller questions"
      ],
      "metadata": {
        "id": "_e557s2w4BpK"
      },
      "execution_count": null,
      "outputs": []
    },
    {
      "cell_type": "markdown",
      "source": [],
      "metadata": {
        "id": "1vEJ_R50ewPO"
      }
    }
  ],
  "metadata": {
    "colab": {
      "provenance": [],
      "include_colab_link": true
    },
    "kernelspec": {
      "display_name": "Python 3 (ipykernel)",
      "language": "python",
      "name": "python3"
    },
    "language_info": {
      "codemirror_mode": {
        "name": "ipython",
        "version": 3
      },
      "file_extension": ".py",
      "mimetype": "text/x-python",
      "name": "python",
      "nbconvert_exporter": "python",
      "pygments_lexer": "ipython3",
      "version": "3.9.12"
    }
  },
  "nbformat": 4,
  "nbformat_minor": 0
}